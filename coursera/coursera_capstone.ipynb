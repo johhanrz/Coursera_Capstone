#welcome to my proyect
# this notebook is for capstone proyect
import panda as pd
import numpy as np
print("hello capstone proyect!")
